{
 "cells": [
  {
   "cell_type": "markdown",
   "id": "14efeeb0-298b-4b1e-9797-6fd7a748ebf1",
   "metadata": {},
   "source": [
    "**Author:** Demetria Murphy\n",
    "\n",
    "# Research Questions:\n",
    "* *What was the Black urban ecology of safety in post-WWII Los Angeles?* \n",
    "\n",
    "* *What was the impact of shifts in neighborhood socioeconomic demographics on this ecology of safety?*  \n",
    "\n",
    "# Data Sources:\n",
    "* [Green Book locations by type for SoCal, 1947](https://github.com/NYPL-publicdomain/greenbook-map/tree/master/data) (Schomburg Center for Research in Black Culture at the New York Public Library)\n",
    "* [Green Book locations by type for SoCal, 1956](https://github.com/NYPL-publicdomain/greenbook-map/tree/master/data) (Schomburg Center for Research in Black Culture at the New York Public Library)\n",
    "* [Los Angeles County Union Census Tract Data Series, 1940-1990](https://drive.google.com/drive/folders/1KiflC3DOQJoo_DTiZGzbr3-_QhvTh1nl?usp=sharing) from Ethington, Kooistra, and DeYoung\n",
    "    * From this dataset, I am interested in the following variables and years that will help me better understand the **racial demographics** of the area in 1940 and 1960 (where yy = year):\n",
    "        * **PyyB:** Population Black non-White\n",
    "            * **PyyT** used to calculate percentage of Black non-white population.\n",
    "        *  **PyyW:** Population White\n",
    "    * Median household income data is not available until 1970 in this dataset, so I will explore  a few of the following variables to better understand the surrounding **socioeconomic context** in both 1940 and 1960 (where yy = year)::\n",
    "        * **EyyH:**\tEducation completed high school \n",
    "        * **EyyC:**\tEducation completed college \n",
    "        * **OyyWC:**\tOccupation White Collar\n",
    "        * **OyyBC:**\tOccupation Blue Collar\n",
    "        * **HyyMVL:**\tMedian value of dwelling/housing units\n",
    "        * **HyyMRN:**\tHousing Median Rent of Unit\n",
    "# Methodology\n",
    "1. Import census tract data for race, GB1947, and GB1956.\n",
    "1. Trim or bound GB1947 and GB1956 to Los Angeles locations.\n",
    "1. Trim census tract data to 1940, 1950, and 1960.\n",
    "1. Calculate % of race for 1940, 1950, and 1960.\n",
    "1. Create multi-layered subplots for GB1947 and 1940 census.\n",
    "1. Create a function and loop through all racial categories.\n",
    "1. Repeat for GB1956 and 1960 census.\n",
    "\n",
    "# Resulting Visualizations\n",
    "* Green Book Location Types, 1947 x Race by Census tract\n",
    "* Green Book Locations Types, 1956 x Race by Census tract (How did location types shift?)"
   ]
  },
  {
   "cell_type": "markdown",
   "id": "bb9d1957-d477-4ab0-8486-5a255f0df844",
   "metadata": {
    "tags": []
   },
   "source": [
    "# 1. Import census tract data for race, GB1947, and GB1956."
   ]
  },
  {
   "cell_type": "code",
   "execution_count": null,
   "id": "11995656-2ad2-4229-aed5-4145f35d67c2",
   "metadata": {
    "jupyter": {
     "source_hidden": true
    },
    "tags": []
   },
   "outputs": [],
   "source": [
    "filename = \"Data/1947-Copy1.geojson\"\n",
    "file = open(filename)\n",
    "gb1947 = gpd.read_file(file)"
   ]
  },
  {
   "cell_type": "code",
   "execution_count": null,
   "id": "7ce44259-5fc7-4915-976a-5c75cd2b6f3b",
   "metadata": {
    "jupyter": {
     "source_hidden": true
    },
    "tags": []
   },
   "outputs": [],
   "source": [
    "gb1947.head()"
   ]
  },
  {
   "cell_type": "code",
   "execution_count": null,
   "id": "989be0b4-1199-4ba2-b489-7e95f43148e3",
   "metadata": {
    "jupyter": {
     "source_hidden": true
    },
    "tags": []
   },
   "outputs": [],
   "source": [
    "# to manipulate csv files\n",
    "import csv\n",
    "from csv import DictWriter\n",
    "\n",
    "# name of csv file  \n",
    "filename = \"gb1947v2.csv\"\n",
    "    \n",
    "# field names to use as headers\n",
    "fields2 = list(gb1947)\n",
    "\n",
    "fields2"
   ]
  },
  {
   "cell_type": "code",
   "execution_count": null,
   "id": "8827b4f6-17c3-40dc-8c9c-83674abcb0a8",
   "metadata": {
    "jupyter": {
     "source_hidden": true
    },
    "tags": []
   },
   "outputs": [],
   "source": [
    "# write/create a new csv file ('w')=write \n",
    "with open(filename, 'w') as csvfile:  \n",
    "    # creating a csv writer object  \n",
    "    csvwriter = csv.writer(csvfile)  \n",
    "        \n",
    "    # writing the fields  \n",
    "    csvwriter.writerow(fields2)  "
   ]
  },
  {
   "cell_type": "code",
   "execution_count": null,
   "id": "3c69d9f0-d586-4422-b418-cbb98147e4b3",
   "metadata": {
    "jupyter": {
     "source_hidden": true
    },
    "tags": []
   },
   "outputs": [],
   "source": [
    "# Open your CSV file in append mode ('a')\n",
    "with open('gb1947v2.csv', 'a') as gb47file: \n",
    "      \n",
    "    # create a dictionary writer\n",
    "    dictwriter = DictWriter(gb47file, fieldnames=fields2) \n",
    "\n",
    "    # loop through each row and add it to the csv file\n",
    "    for index, row in gb1947.iterrows():\n",
    "        #Pass the dictionary as an argument to the writerow() \n",
    "        dictwriter.writerow(row.to_dict()) \n",
    "  \n",
    "    #Close the file object \n",
    "    gb47file.close()"
   ]
  },
  {
   "cell_type": "code",
   "execution_count": null,
   "id": "a4d1ca38-abdd-432a-91e1-cc1cc546f6d6",
   "metadata": {
    "jupyter": {
     "source_hidden": true
    },
    "tags": []
   },
   "outputs": [],
   "source": [
    "gb47a = gpd.read_file('Data/gb1947v2.csv')"
   ]
  },
  {
   "cell_type": "code",
   "execution_count": null,
   "id": "6a8c055c-450e-47bf-8154-648175b14c73",
   "metadata": {
    "jupyter": {
     "source_hidden": true
    },
    "tags": []
   },
   "outputs": [],
   "source": [
    "gb47a"
   ]
  },
  {
   "cell_type": "code",
   "execution_count": null,
   "id": "467f50fb-bb88-4c11-8f43-fa78fd5eae80",
   "metadata": {
    "jupyter": {
     "source_hidden": true
    },
    "tags": []
   },
   "outputs": [],
   "source": [
    "#We don't need the oldlat and oldlong columns, so let's drop them.\n",
    "columns_to_drop = ['oldlat','oldlong']\n",
    "gb47a = gb47a.drop(columns_to_drop,axis=1)\n",
    "gb47a.head()"
   ]
  },
  {
   "cell_type": "code",
   "execution_count": null,
   "id": "4788b28f-b4f2-4535-91c3-89ae811583fd",
   "metadata": {
    "jupyter": {
     "source_hidden": true
    },
    "tags": []
   },
   "outputs": [],
   "source": [
    "# convert df to gdf\n",
    "# since data is in lat/lon's assign the crs to WGS84 (epsg:4326)\n",
    "gb47 = gpd.GeoDataFrame(gb47a, \n",
    "                       crs='epsg:4326',\n",
    "                       geometry=gpd.points_from_xy(gb47a.LONG, gb47a.LAT)) #define which column is long and lat"
   ]
  },
  {
   "cell_type": "code",
   "execution_count": null,
   "id": "bfdc1238-bbe1-418a-842e-6d6aeae1f11a",
   "metadata": {
    "jupyter": {
     "source_hidden": true
    },
    "tags": []
   },
   "outputs": [],
   "source": [
    "gb47"
   ]
  },
  {
   "cell_type": "code",
   "execution_count": null,
   "id": "bb247024-3ab3-4a5a-94b1-a6d18b8bb5b3",
   "metadata": {},
   "outputs": [],
   "source": [
    "import pandas as pd\n",
    "\n",
    "# for spatial data\n",
    "import geopandas as gpd\n",
    "\n",
    "# for plotting\n",
    "import matplotlib.pyplot as plt\n",
    "\n",
    "# for basemaps\n",
    "import contextily as ctx\n",
    "\n",
    "import plotly.express as px\n",
    "\n",
    "import json"
   ]
  },
  {
   "cell_type": "code",
   "execution_count": null,
   "id": "6172ca8a-dda4-48fa-a1ff-1b43bf50bc8a",
   "metadata": {},
   "outputs": [],
   "source": []
  },
  {
   "cell_type": "code",
   "execution_count": null,
   "id": "6e4b86da-bd8e-4dd5-bf4d-e06e177e24f2",
   "metadata": {},
   "outputs": [],
   "source": [
    "filename = \"Data/1947-Copy1.geojson\"\n",
    "file = open(filename)\n",
    "gb47 = gpd.read_file(file)"
   ]
  },
  {
   "cell_type": "code",
   "execution_count": null,
   "id": "957558a4-dcc1-4426-a735-b3618bbdd222",
   "metadata": {
    "tags": []
   },
   "outputs": [],
   "source": [
    "gb47.head()"
   ]
  },
  {
   "cell_type": "code",
   "execution_count": null,
   "id": "865a9a8b-f293-462f-b562-71a7559a2e72",
   "metadata": {
    "tags": []
   },
   "outputs": [],
   "source": [
    "# read file\n",
    "with open('Data/greenbook_1956.json', 'r') as myfile2:\n",
    "    data2=myfile2.read()\n",
    "\n",
    "print(data2)"
   ]
  },
  {
   "cell_type": "code",
   "execution_count": null,
   "id": "e71d644a-bbd1-452c-a8cf-3124ef6ecfb0",
   "metadata": {
    "tags": []
   },
   "outputs": [],
   "source": [
    "# parse file\n",
    "gb561 = json.loads(data2)\n",
    "gb561"
   ]
  },
  {
   "cell_type": "code",
   "execution_count": null,
   "id": "dea164c4-a273-42a5-9959-f4d6c5775528",
   "metadata": {
    "tags": []
   },
   "outputs": [],
   "source": [
    "# convert json data to dataframe (ERROR) --> start here with trying to figure out how to create a df\n",
    "gb56 = pd.json_normalize(gb561,'rows')\n",
    "gb56"
   ]
  },
  {
   "cell_type": "code",
   "execution_count": null,
   "id": "33d0eb2f-9cc7-4870-a313-118a4286eda0",
   "metadata": {},
   "outputs": [],
   "source": [
    "gdf = gpd.read_file('Data/LA4090V101.SHP')"
   ]
  },
  {
   "cell_type": "code",
   "execution_count": null,
   "id": "edce03d8-005a-4a87-9872-4a3d443aeb84",
   "metadata": {
    "tags": []
   },
   "outputs": [],
   "source": [
    "gdf.head()"
   ]
  },
  {
   "cell_type": "code",
   "execution_count": null,
   "id": "a151a331-fe4c-452c-820b-3a22a87609b1",
   "metadata": {
    "tags": []
   },
   "outputs": [],
   "source": [
    "#rename columns\n",
    "gb56.columns = ['name', 'address', 'category', 'year', 'lat_long']\n",
    "gb56"
   ]
  },
  {
   "cell_type": "markdown",
   "id": "5a85f58f-eae2-4d8f-82cd-0d2f249e4c42",
   "metadata": {},
   "source": [
    "Let's check our data before moving onto trimming the census data."
   ]
  },
  {
   "cell_type": "code",
   "execution_count": null,
   "id": "9fc4ddda-5863-4edd-9cdf-8aa53ea2d8ab",
   "metadata": {
    "tags": []
   },
   "outputs": [],
   "source": [
    "gdf.info(verbose=True, null_counts=True)"
   ]
  },
  {
   "cell_type": "code",
   "execution_count": null,
   "id": "efffbf71-7155-4e94-b2a9-505ca84b7194",
   "metadata": {
    "tags": []
   },
   "outputs": [],
   "source": [
    "gb47.info(verbose=True, null_counts=True)"
   ]
  },
  {
   "cell_type": "code",
   "execution_count": null,
   "id": "b7b6bf2e-b1b0-42b3-b7a0-9f5e251cfdaf",
   "metadata": {
    "tags": []
   },
   "outputs": [],
   "source": [
    "gb56.info(verbose=True, null_counts=True)"
   ]
  },
  {
   "cell_type": "code",
   "execution_count": null,
   "id": "c0b8465c-f363-446a-b286-cbccd0fa0023",
   "metadata": {},
   "outputs": [],
   "source": [
    "import os\n",
    "\n",
    "gdf.AREA.head()"
   ]
  },
  {
   "cell_type": "code",
   "execution_count": null,
   "id": "32a746c6-42eb-4874-b1a4-670d7cb1bd21",
   "metadata": {},
   "outputs": [],
   "source": [
    "gdf.PERIMETER.head()"
   ]
  },
  {
   "cell_type": "code",
   "execution_count": null,
   "id": "f42e9816-d41d-42c2-b215-ff9076a83a1b",
   "metadata": {},
   "outputs": [],
   "source": [
    "gdf.plot()\n",
    "plt.show()"
   ]
  },
  {
   "cell_type": "code",
   "execution_count": null,
   "id": "fe4afa00-fff3-454d-8024-b858bf0f9aa1",
   "metadata": {
    "tags": []
   },
   "outputs": [],
   "source": [
    "gb47.plot()\n",
    "plt.show()"
   ]
  },
  {
   "cell_type": "code",
   "execution_count": null,
   "id": "2db7c3f5-aec4-43be-ab06-22ef685dcab7",
   "metadata": {
    "tags": []
   },
   "outputs": [],
   "source": [
    "gb56.plot()\n",
    "plt.show()"
   ]
  },
  {
   "cell_type": "markdown",
   "id": "c86339d4-a944-4d9a-9f24-2dedd9d8c72c",
   "metadata": {},
   "source": [
    "(Likely delete) Because this data is not a geodataframe, we must tell it to map the x and y coordinates."
   ]
  },
  {
   "cell_type": "code",
   "execution_count": null,
   "id": "3e436066-499a-4b49-987f-2753f5fee20c",
   "metadata": {
    "jupyter": {
     "source_hidden": true
    },
    "tags": []
   },
   "outputs": [],
   "source": [
    "#let's double check the 1947 data\n",
    "# convert df to gdf\n",
    "# since data is in lat/lon's assign the crs to WGS84 (epsg:4326)\n",
    "# gb47 = gpd.GeoDataFrame(gb47, \n",
    "                       crs='epsg:4326',\n",
    "                       geometry='geometry') #define which column is long and lat\n",
    "\n",
    "# reproject to web mercator\n",
    "# gb47_web_mercator = gb47.to_crs(epsg=3857)\n",
    "\n",
    "# map it\n",
    "# fig, ax = plt.subplots(figsize=(15,5))\n",
    "\n",
    "# gb47_web_mercator.plot(ax=ax, \n",
    "                      marker='o',\n",
    "                      markersize=15,\n",
    "                      color='red')\n",
    "\n",
    "# ax.axis('off')\n",
    "\n",
    "# ax.set_title('Greenbook Locations, 1947')\n",
    "\n",
    "# ctx.add_basemap(ax)"
   ]
  },
  {
   "cell_type": "markdown",
   "id": "31839490-5d43-4652-8f86-3553a8fe6011",
   "metadata": {},
   "source": [
    "Let's transfer the 1956 data to a csv file to manually separate the lat and long columns, all to create our gdf."
   ]
  },
  {
   "cell_type": "code",
   "execution_count": null,
   "id": "670e83a9-cdc4-4e0b-a11b-d8cf6221b4b9",
   "metadata": {
    "jupyter": {
     "source_hidden": true
    },
    "tags": []
   },
   "outputs": [],
   "source": [
    "# to manipulate csv files\n",
    "# import csv\n",
    "# from csv import DictWriter\n",
    "\n",
    "# name of csv file  \n",
    "# filename = \"gb1956.csv\"\n",
    "    \n",
    "# field names to use as headers\n",
    "# fields = list(gb56)\n",
    "\n",
    "# fields"
   ]
  },
  {
   "cell_type": "code",
   "execution_count": null,
   "id": "0713f29d-d6af-4c44-a1ea-07aef1838e94",
   "metadata": {
    "jupyter": {
     "source_hidden": true
    },
    "tags": []
   },
   "outputs": [],
   "source": [
    "# write/create a new csv file ('w')=write \n",
    "# with open(filename, 'w') as csvfile:  \n",
    "    # creating a csv writer object  \n",
    "   #  csvwriter = csv.writer(csvfile)  \n",
    "        \n",
    "    # writing the fields  \n",
    "   #  csvwriter.writerow(fields)  "
   ]
  },
  {
   "cell_type": "code",
   "execution_count": null,
   "id": "6fe659c3-494a-4e5e-8072-bad16f432d9d",
   "metadata": {
    "jupyter": {
     "source_hidden": true
    },
    "tags": []
   },
   "outputs": [],
   "source": [
    "# Open your CSV file in append mode ('a')\n",
    "# with open('gb1956.csv', 'a') as gb56file: \n",
    "      \n",
    "    # create a dictionary writer\n",
    "  #   dictwriter = DictWriter(gb56file, fieldnames=fields) \n",
    "\n",
    "    # loop through each row and add it to the csv file\n",
    "  #   for index, row in gb56.iterrows():\n",
    "        #Pass the dictionary as an argument to the writerow() \n",
    "      #   dictwriter.writerow(row.to_dict()) \n",
    "  \n",
    "    #Close the file object \n",
    "  #   gb56file.close()"
   ]
  },
  {
   "cell_type": "markdown",
   "id": "9d1f31d6-cbf4-4863-bcf5-c0db4ffa6dfc",
   "metadata": {},
   "source": [
    "Now, let's reupload this cleaned csv file."
   ]
  },
  {
   "cell_type": "code",
   "execution_count": null,
   "id": "03b151a8-31ff-493f-bcdc-f24fdfa917c3",
   "metadata": {},
   "outputs": [],
   "source": [
    "gb56b = gpd.read_file('Data/gb1956.csv')"
   ]
  },
  {
   "cell_type": "code",
   "execution_count": null,
   "id": "c56d0ab1-db92-419b-b3f4-9ef086a3319e",
   "metadata": {
    "tags": []
   },
   "outputs": [],
   "source": [
    "gb56b"
   ]
  },
  {
   "cell_type": "code",
   "execution_count": null,
   "id": "911a73e9-29e2-47ca-83cb-1beb581256e6",
   "metadata": {},
   "outputs": [],
   "source": [
    "#We don't need the oldlat and oldlong columns, so let's drop them.\n",
    "columns_to_drop = ['oldlat','oldlong']\n",
    "gb56b = gb56b.drop(columns_to_drop,axis=1)\n",
    "gb56b.head()"
   ]
  },
  {
   "cell_type": "code",
   "execution_count": null,
   "id": "991da140-5b0c-4038-99b7-7e8cba304dc7",
   "metadata": {},
   "outputs": [],
   "source": [
    "# convert df to gdf\n",
    "# since data is in lat/lon's assign the crs to WGS84 (epsg:4326)\n",
    "gb1956 = gpd.GeoDataFrame(gb56b, \n",
    "                       crs='epsg:4326',\n",
    "                       geometry=gpd.points_from_xy(gb56b.LONG, gb56b.LAT)) #define which column is long and lat"
   ]
  },
  {
   "cell_type": "code",
   "execution_count": null,
   "id": "9ebf3e12-c6d1-49ee-9a3f-0a6d4ec40c9b",
   "metadata": {
    "tags": []
   },
   "outputs": [],
   "source": [
    "gb1956"
   ]
  },
  {
   "cell_type": "code",
   "execution_count": null,
   "id": "079822a8-761e-4227-b5ff-2269e04589ab",
   "metadata": {},
   "outputs": [],
   "source": [
    "# reproject to web mercator\n",
    "gb56_web_mercator = gb1956.to_crs(epsg=3857)\n",
    "\n",
    "# map it\n",
    "fig, ax = plt.subplots(figsize=(15,5))\n",
    "\n",
    "gb56_web_mercator.plot(ax=ax, \n",
    "                      marker='o',\n",
    "                      markersize=15,\n",
    "                      color='blue')\n",
    "\n",
    "ax.axis('off')\n",
    "\n",
    "ax.set_title('Greenbook Locations, 1956')\n",
    "\n",
    "ctx.add_basemap(ax)"
   ]
  },
  {
   "cell_type": "markdown",
   "id": "904246a9-50a2-48c1-b3ae-df21ca66b36f",
   "metadata": {},
   "source": [
    "#yay! our data is working well."
   ]
  },
  {
   "cell_type": "markdown",
   "id": "089783ab-48d3-4160-82ab-80ae3c5182fd",
   "metadata": {},
   "source": [
    "Let's do some initial descriptive stats for our data."
   ]
  },
  {
   "cell_type": "code",
   "execution_count": null,
   "id": "f8675b6b-e330-458d-811f-e5328350976b",
   "metadata": {},
   "outputs": [],
   "source": [
    "gb1956.info()"
   ]
  },
  {
   "cell_type": "code",
   "execution_count": null,
   "id": "44729536-f57e-4c49-8ce8-626ee760bef9",
   "metadata": {},
   "outputs": [],
   "source": [
    "gb47.info()"
   ]
  },
  {
   "cell_type": "code",
   "execution_count": null,
   "id": "a7892b10-4187-4136-a5d6-50e427d2e16e",
   "metadata": {},
   "outputs": [],
   "source": [
    "gb47['city'].value_counts()"
   ]
  },
  {
   "cell_type": "code",
   "execution_count": null,
   "id": "abe80377-c505-46e1-afb0-ee73391570cf",
   "metadata": {},
   "outputs": [],
   "source": [
    "gb1956['city'].value_counts()"
   ]
  },
  {
   "cell_type": "code",
   "execution_count": null,
   "id": "30db2421-df62-40f2-9f7a-f93db34121b3",
   "metadata": {},
   "outputs": [],
   "source": [
    "#save as new variable\n",
    "city_count47 = gb47['city'].value_counts()\n",
    "\n",
    "city_count47.head(10).plot.bar(x = 'city', y = 'count', title = 'Top 10 Cities in the Green Book, 1947')"
   ]
  },
  {
   "cell_type": "code",
   "execution_count": null,
   "id": "a83bc1dd-267d-47db-8cd4-0be1b5bf2688",
   "metadata": {},
   "outputs": [],
   "source": [
    "#save as new variable\n",
    "city_count56 = gb1956['city'].value_counts()\n",
    "\n",
    "city_count56.head(10).plot.bar(x = 'city', y = 'count', title = 'Top 10 Cities in the Green Book, 1956')"
   ]
  },
  {
   "cell_type": "markdown",
   "id": "fd37e9ea-8eb3-4e8f-9ecf-4a6b6f865f11",
   "metadata": {
    "tags": []
   },
   "source": [
    "# 2. Trim or bound GB1947 and GB1956 to Los Angeles locations."
   ]
  },
  {
   "cell_type": "code",
   "execution_count": null,
   "id": "02daf5ca-c7b1-45aa-8c72-5e195a7f6877",
   "metadata": {
    "tags": []
   },
   "outputs": [],
   "source": [
    "#create new variable\n",
    "la47 = gb47.query(\"city == 'LOS ANGELES'\")\n",
    "\n",
    "#add dataframe\n",
    "la47 = la47.reset_index()\n",
    "la47"
   ]
  },
  {
   "cell_type": "code",
   "execution_count": null,
   "id": "76e43f30-5538-4340-bc0d-2e534e64aa19",
   "metadata": {
    "tags": []
   },
   "outputs": [],
   "source": [
    "#create new variable\n",
    "la56 = gb1956.query(\"city == ' Los Angeles'\")\n",
    "\n",
    "#add dataframe\n",
    "la56 = la56.reset_index()\n",
    "la56"
   ]
  },
  {
   "cell_type": "code",
   "execution_count": null,
   "id": "2fea08c4-40f6-4a29-93da-b78fcb696f41",
   "metadata": {},
   "outputs": [],
   "source": [
    "la47.info()"
   ]
  },
  {
   "cell_type": "code",
   "execution_count": null,
   "id": "1271b160-dcc8-4ede-949d-ec50f95092ff",
   "metadata": {},
   "outputs": [],
   "source": [
    "la56.info()"
   ]
  },
  {
   "cell_type": "markdown",
   "id": "0047d8ca-56c3-4a1c-8b82-42973e51bfaa",
   "metadata": {},
   "source": [
    "Wow! Greenbook locations reduced from 101 locations in 1947 to 24 locations in 1956."
   ]
  },
  {
   "cell_type": "code",
   "execution_count": null,
   "id": "6c052396-88ab-4fb1-8fd7-3a373f0121dc",
   "metadata": {},
   "outputs": [],
   "source": [
    "category_countla47 = la47['category'].value_counts()\n",
    "category_countla47.plot.bar(x = 'category', y = 'count', title = 'Green Book Location Types in Los Angeles, 1947')"
   ]
  },
  {
   "cell_type": "code",
   "execution_count": null,
   "id": "e6346981-5a32-430d-bbf7-41ccd9a5daad",
   "metadata": {},
   "outputs": [],
   "source": [
    "# add labels by providing a dict\n",
    "fig = px.bar(\n",
    "        la47,\n",
    "        x='category',\n",
    "        title='Green Book Location Types in Los Angeles, 1947',\n",
    "        labels={\n",
    "            'category':'Location Type',\n",
    "            'count':'Number of Locations'\n",
    "        } # change labels based on dictionary\n",
    ")\n",
    "\n",
    "# get rid of white lines inside the bars\n",
    "fig.update_traces(marker_line_width=0)\n",
    "\n",
    "# show the figure\n",
    "fig.show()"
   ]
  },
  {
   "cell_type": "code",
   "execution_count": null,
   "id": "a186e971-43fc-42ef-b48f-c0384274254c",
   "metadata": {},
   "outputs": [],
   "source": [
    "category_countla56 = la56['category'].value_counts()\n",
    "category_countla56.plot.bar(x = 'category', y = 'count', title = 'Green Book Location Types in Los Angeles, 1956')"
   ]
  },
  {
   "cell_type": "code",
   "execution_count": null,
   "id": "2eef4f52-8c53-471f-b83f-c2432707aef8",
   "metadata": {},
   "outputs": [],
   "source": [
    "# add labels by providing a dict\n",
    "fig = px.bar(\n",
    "        la56,\n",
    "        x='category',\n",
    "        title='Green Book Location Types in Los Angeles, 1956',\n",
    "        labels={\n",
    "            'category':'Location Type',\n",
    "            'count':'Number of Locations'\n",
    "        } # change labels based on dictionary\n",
    ")\n",
    "\n",
    "# get rid of white lines inside the bars\n",
    "fig.update_traces(marker_line_width=0)\n",
    "\n",
    "# show the figure\n",
    "fig.show()"
   ]
  },
  {
   "cell_type": "code",
   "execution_count": null,
   "id": "ac42fb16-baf0-4c97-83e1-44ee4f0eca41",
   "metadata": {},
   "outputs": [],
   "source": [
    "la47.query(\"name == 'Waffle Shop'\")"
   ]
  },
  {
   "cell_type": "code",
   "execution_count": null,
   "id": "6da08377-b7e0-4273-a6dc-64b19188c3ee",
   "metadata": {
    "tags": []
   },
   "outputs": [],
   "source": [
    "la47 = la47.drop(labels=33,axis=0)\n",
    "la47.query(\"name == 'Waffle Shop'\")"
   ]
  },
  {
   "cell_type": "code",
   "execution_count": null,
   "id": "4939285f-456a-4551-895a-1b60b95698ba",
   "metadata": {},
   "outputs": [],
   "source": [
    "la47.query(\"name == 'Billy Bergs'\")"
   ]
  },
  {
   "cell_type": "code",
   "execution_count": null,
   "id": "5694d079-4f18-4d19-9507-e8789b5c35a9",
   "metadata": {},
   "outputs": [],
   "source": [
    "la47 = la47.drop(labels=76,axis=0)\n",
    "la47.query(\"name == 'Billy Bergs'\")"
   ]
  },
  {
   "cell_type": "code",
   "execution_count": null,
   "id": "41595072-933e-47fb-a295-4024315a2364",
   "metadata": {},
   "outputs": [],
   "source": [
    "la47.query(\"address == '3903 S. Central Avenue'\")"
   ]
  },
  {
   "cell_type": "code",
   "execution_count": null,
   "id": "0bb94ec2-26ab-4324-af2c-d7bf9da97a8f",
   "metadata": {},
   "outputs": [],
   "source": [
    "la47 = la47.drop(labels=81,axis=0)\n",
    "la47.query(\"address == '3903 S. Central Avenue'\")"
   ]
  },
  {
   "cell_type": "code",
   "execution_count": null,
   "id": "80fcbf18-3a65-4c64-9b5c-4532ccb05e11",
   "metadata": {},
   "outputs": [],
   "source": [
    "la47.query(\"address == '4500 S. Avalon Avenue'\")"
   ]
  },
  {
   "cell_type": "code",
   "execution_count": null,
   "id": "d3ffe894-93a2-49c1-ae56-9451a914d1eb",
   "metadata": {},
   "outputs": [],
   "source": [
    "la47 = la47.drop(labels=84,axis=0)\n",
    "la47.query(\"address == '4500 S. Avalon Avenue'\")"
   ]
  },
  {
   "cell_type": "code",
   "execution_count": null,
   "id": "761aab2b-59ad-4983-861a-ce946aa0a2a3",
   "metadata": {
    "tags": []
   },
   "outputs": [],
   "source": [
    "# reproject to web mercator\n",
    "la47_web_mercator = la47.to_crs(epsg=3857)\n",
    "\n",
    "# map it\n",
    "fig, ax = plt.subplots(figsize=(20, 20))\n",
    "\n",
    "la47_web_mercator.plot(ax=ax, \n",
    "                      marker='o',\n",
    "                      markersize=50,\n",
    "                      color='red')\n",
    "\n",
    "#no axis\n",
    "ax.axis('off')\n",
    "\n",
    "#Add a Title\n",
    "ax.set_title('Greenbook Locations, 1947')\n",
    "\n",
    "#add a basemap\n",
    "ctx.add_basemap(ax, source=ctx.providers.CartoDB.Positron)"
   ]
  },
  {
   "cell_type": "code",
   "execution_count": null,
   "id": "331017bb-c3ac-451a-a78c-26f1f4359f84",
   "metadata": {
    "tags": []
   },
   "outputs": [],
   "source": [
    "ax = la47_web_mercator.plot(figsize=(20,20),\n",
    "                              column='category',\n",
    "                              legend=True,\n",
    "                             markersize=10)\n",
    "\n",
    "ax.axis('off')\n",
    "\n",
    "#Add a Title\n",
    "ax.set_title('Greenbook Locations in Los Angeles, 1947')\n",
    "\n",
    "ctx.add_basemap(ax,source=ctx.providers.CartoDB.Positron)"
   ]
  },
  {
   "cell_type": "code",
   "execution_count": null,
   "id": "55198d2e-71df-48e5-babb-56a34f077e64",
   "metadata": {
    "tags": []
   },
   "outputs": [],
   "source": [
    "# reproject to web mercator\n",
    "la56_web_mercator = la56.to_crs(epsg=3857)\n",
    "\n",
    "# map it\n",
    "fig, ax = plt.subplots(figsize=(20, 20))\n",
    "\n",
    "la56_web_mercator.plot(ax=ax, \n",
    "                      marker='3',\n",
    "                      markersize=50,\n",
    "                      color='blue')\n",
    "\n",
    "ax.axis('off')\n",
    "\n",
    "ax.set_title('Greenbook Locations in Los Angeles, 1956')\n",
    "\n",
    "ctx.add_basemap(ax, source=ctx.providers.CartoDB.Positron)"
   ]
  },
  {
   "cell_type": "code",
   "execution_count": null,
   "id": "e43de39d-4ef2-4602-91fa-8f3f072a32ea",
   "metadata": {},
   "outputs": [],
   "source": [
    "ax = la56_web_mercator.plot(figsize=(20,20),\n",
    "                              column='category',\n",
    "                              legend=True,\n",
    "                             markersize=10)\n",
    "\n",
    "ax.axis('off')\n",
    "\n",
    "#Add a Title\n",
    "ax.set_title('Greenbook Locations in Los Angeles, 1956')\n",
    "\n",
    "ctx.add_basemap(ax,source=ctx.providers.CartoDB.Positron)"
   ]
  },
  {
   "cell_type": "markdown",
   "id": "7c3b25e7-b409-4cf5-a9d4-e3d70a50dc81",
   "metadata": {},
   "source": [
    "At a glance, it appears there was a significant reduction in the commercial corridor in Historic South Central. This is consistent with the observation that there was a reduction in many commercial locations from 1947 to 1956."
   ]
  },
  {
   "cell_type": "markdown",
   "id": "8d2fb5f5-feff-4846-b263-da00775f486d",
   "metadata": {},
   "source": [
    "*How did race change in the surrounding area of the Greenbook locations from 1940 to 1960?*"
   ]
  },
  {
   "cell_type": "markdown",
   "id": "41c6b13e-7785-4774-b3ac-6ebdd14f12c8",
   "metadata": {},
   "source": [
    "# 3. Trim census tract data to 1940, 1950, and 1960."
   ]
  },
  {
   "cell_type": "code",
   "execution_count": null,
   "id": "d4040c69-ebe3-4273-9d69-4d92976bd783",
   "metadata": {},
   "outputs": [],
   "source": [
    "columns_to_drop70 = ['P70T','P70WNH', 'P70BNH', 'P70ONH','P70HIS', 'A700004', 'A700517', 'A701864', 'A7065UP', 'A70MEDN', 'M70SINGL', 'M70MAR', 'M70OTH', 'E70C', 'E70H', 'E70OTH', 'O70WC', 'O70BC', 'R70SH65', 'R70SC65', 'R70OT65', 'H70TOT', 'H70SFU', 'H70OTH', 'INC70MED', 'H70MVL', 'H70MRN']\n",
    "columns_to_drop80 = ['P80T', 'P80WNH', 'P80BNH', 'P80ONH', 'P80HIS', 'A800004', 'A800517', 'A801864', 'A8065UP', 'A80MEDN', 'M80SINGL', 'M80MAR', 'M80OTH', 'E80C', 'E80H', 'E80OTH', 'O80WC', 'O80BC', 'R80SH75', 'R80SC75', 'R80OT75', 'H80TOT', 'H80SFU', 'H80OTH', 'INC80MED', 'H80MVL', 'H80MRN']\n",
    "columns_to_drop90 = ['P90T', 'P90WNH', 'P90BNH', 'P90ONH', 'P90HIS', 'A900004', 'A900517', 'A901864', 'A9065UP', 'A90MEDN', 'M90SINGL', 'M90MAR', 'M90OTH', 'E90C', 'E90H', 'E90OTH', 'O90WC', 'O90BC', 'R90SH85', 'R90SC85', 'R90OT85', 'H90TOT', 'H90SFU', 'H90OTH', 'INC90MED', 'H90MVL']"
   ]
  },
  {
   "cell_type": "code",
   "execution_count": null,
   "id": "54878c68-551a-4024-899d-6cf581aad7b6",
   "metadata": {},
   "outputs": [],
   "source": [
    "drops = [columns_to_drop70, columns_to_drop80, columns_to_drop90]"
   ]
  },
  {
   "cell_type": "code",
   "execution_count": null,
   "id": "eb62aad2-864b-4af2-b160-3ab867cde9df",
   "metadata": {
    "tags": []
   },
   "outputs": [],
   "source": [
    "# loop through routes = for loop; all indented below is part of for loop\n",
    "for drop in drops:\n",
    "\n",
    "    gdf = gdf.drop(drop, axis=1)\n",
    "\n",
    "gdf.head()"
   ]
  },
  {
   "cell_type": "code",
   "execution_count": null,
   "id": "aa6b3c35-bced-49a3-b0d9-d6f856a3d205",
   "metadata": {
    "tags": []
   },
   "outputs": [],
   "source": [
    "gdf.columns.to_list()"
   ]
  },
  {
   "cell_type": "markdown",
   "id": "dc21ee6b-52cd-43b0-a0c2-6fa715fca5ba",
   "metadata": {},
   "source": [
    "# 4. Calculate % of race for 1940, 1950, and 1960."
   ]
  },
  {
   "cell_type": "markdown",
   "id": "0557cfc9-ed72-499a-9f63-9a65fbcedfc5",
   "metadata": {},
   "source": [
    "Calculating and adding these columns will give us a better sense of the overall percentage of Black and White residents to better compare Census tracts."
   ]
  },
  {
   "cell_type": "code",
   "execution_count": null,
   "id": "12951c67-5f6f-4685-83a8-355620527b65",
   "metadata": {},
   "outputs": [],
   "source": [
    "gdf['Pct_black_40'] = ''\n",
    "gdf['Pct_black_40'] = gdf['P40B']/gdf['P40T'] *100"
   ]
  },
  {
   "cell_type": "code",
   "execution_count": null,
   "id": "1ddf3018-a03e-46f4-9b1f-5b2ff205e9a5",
   "metadata": {
    "tags": []
   },
   "outputs": [],
   "source": [
    "gdf.head()"
   ]
  },
  {
   "cell_type": "code",
   "execution_count": null,
   "id": "a13d8bb2-27f7-4c01-aa4e-06722b1adbe3",
   "metadata": {},
   "outputs": [],
   "source": [
    "gdf['Pct_white_40'] = ''\n",
    "gdf['Pct_white_40'] = gdf['P40TW']/gdf['P40T'] *100"
   ]
  },
  {
   "cell_type": "code",
   "execution_count": null,
   "id": "0741f56d-7f2c-4676-a660-c4bbe97994ee",
   "metadata": {
    "tags": []
   },
   "outputs": [],
   "source": [
    "gdf.head()"
   ]
  },
  {
   "cell_type": "code",
   "execution_count": null,
   "id": "638e14c6-e6b6-4ec3-b231-ed7e2964c4ca",
   "metadata": {
    "tags": []
   },
   "outputs": [],
   "source": [
    "gdf['Pct_black_50'] = ''\n",
    "gdf['Pct_black_50'] = gdf['P50B']/gdf['P50T'] *100\n",
    "\n",
    "gdf['Pct_white_50'] = ''\n",
    "gdf['Pct_white_50'] = gdf['P50TW']/gdf['P50T'] *100"
   ]
  },
  {
   "cell_type": "code",
   "execution_count": null,
   "id": "87d35dae-27ca-4ea2-b64c-6ac64103310b",
   "metadata": {},
   "outputs": [],
   "source": [
    "gdf['Pct_black_60'] = ''\n",
    "gdf['Pct_black_60'] = gdf['P60B']/gdf['P60T'] *100\n",
    "\n",
    "gdf['Pct_white_60'] = ''\n",
    "gdf['Pct_white_60'] = gdf['P60TW']/gdf['P60T'] *100"
   ]
  },
  {
   "cell_type": "code",
   "execution_count": null,
   "id": "b33e48db-da30-430e-aad6-627b8e16e276",
   "metadata": {
    "tags": []
   },
   "outputs": [],
   "source": [
    "gdf.head()"
   ]
  },
  {
   "cell_type": "code",
   "execution_count": null,
   "id": "3f814230-d5b3-49d0-9fc9-69ea46c70b18",
   "metadata": {},
   "outputs": [],
   "source": [
    "gdf.plot(figsize=(12,10),\n",
    "                 column='Pct_black_40',\n",
    "                 legend=True, \n",
    "                 scheme='NaturalBreaks')"
   ]
  },
  {
   "cell_type": "code",
   "execution_count": null,
   "id": "adfe6425-5e71-4081-a49e-eb1d56ccdbb6",
   "metadata": {},
   "outputs": [],
   "source": [
    "# create the 1x2 subplots\n",
    "fig, axs = plt.subplots(1, 2, figsize=(15, 12))\n",
    "\n",
    "# name each subplot\n",
    "ax1, ax2 = axs\n",
    "\n",
    "# 1940 map on the left\n",
    "gdf.plot(column='Pct_black_40', \n",
    "            cmap='RdYlGn_r', \n",
    "            scheme='user_defined',\n",
    "            classification_kwds={'bins':[20,40,60,80,100]},\n",
    "            edgecolor='white', \n",
    "            linewidth=0., \n",
    "            alpha=0.75, \n",
    "            ax=ax1, # this assigns the map to the subplot,\n",
    "            legend=True\n",
    "           )\n",
    "\n",
    "ax1.axis(\"off\")\n",
    "ax1.set_title(\"Percentage of Black Population in Los Angeles County, 1940\", fontsize=12, weight='bold')\n",
    "ctx.add_basemap(ax,source=ctx.providers.CartoDB.Positron)\n",
    "\n",
    "# 1960 on the right\n",
    "gdf.plot(column='Pct_black_60', \n",
    "            cmap='RdYlGn_r', \n",
    "            scheme='user_defined',\n",
    "            classification_kwds={'bins':[20,40,60,80,100]},\n",
    "            edgecolor='white', \n",
    "            linewidth=0., \n",
    "            alpha=0.75, \n",
    "            ax=ax2, # this assigns the map to the subplot\n",
    "            legend=True\n",
    "           )\n",
    "\n",
    "ax2.axis(\"off\")\n",
    "ax2.set_title(\"Percentage of Black Population in Los Angeles County, 1960\", fontsize=12, weight='bold')\n",
    "ctx.add_basemap(ax,source=ctx.providers.CartoDB.Positron)"
   ]
  },
  {
   "cell_type": "code",
   "execution_count": null,
   "id": "a8070c35-2b5c-4283-b461-866c9216ce26",
   "metadata": {},
   "outputs": [],
   "source": [
    "# create the 1x2 subplots\n",
    "fig, axs = plt.subplots(1, 2, figsize=(15, 12))\n",
    "\n",
    "# name each subplot\n",
    "ax1, ax2 = axs\n",
    "\n",
    "# 1940 map on the left\n",
    "gdf.plot(column='Pct_white_40', \n",
    "            cmap='RdYlGn_r', \n",
    "            scheme='user_defined',\n",
    "            classification_kwds={'bins':[20,40,60,80,100]},\n",
    "            edgecolor='white', \n",
    "            linewidth=0., \n",
    "            alpha=0.75, \n",
    "            ax=ax1, # this assigns the map to the subplot,\n",
    "            legend=True\n",
    "           )\n",
    "\n",
    "ax1.axis(\"off\")\n",
    "ax1.set_title(\"Percentage of White Population in Los Angeles County, 1940\", fontsize=12, weight='bold')\n",
    "\n",
    "# 1960 on the right\n",
    "gdf.plot(column='Pct_white_60', \n",
    "            cmap='RdYlGn_r', \n",
    "            scheme='user_defined',\n",
    "            classification_kwds={'bins':[20,40,60,80,100]},\n",
    "            edgecolor='white', \n",
    "            linewidth=0., \n",
    "            alpha=0.75, \n",
    "            ax=ax2, # this assigns the map to the subplot\n",
    "            legend=True\n",
    "           )\n",
    "\n",
    "ax2.axis(\"off\")\n",
    "ax2.set_title(\"Percentage of White Population in Los Angeles County, 1960\", fontsize=12, weight='bold')"
   ]
  },
  {
   "cell_type": "markdown",
   "id": "681d04a5-c502-4be4-9006-f74c4d90de6e",
   "metadata": {},
   "source": [
    "This shows the concentration of Black residents in the inner city core."
   ]
  },
  {
   "cell_type": "markdown",
   "id": "cf50d26b-a6d6-494c-b2a3-9f7d8bf22c62",
   "metadata": {},
   "source": [
    "Based on our previous exploration, ***which Census tracts have the highest Black population?*** In 1940, this will give us a sense of where Black people could live. In 1950 and 1960, this will give us a sense of both where Black people lived after the outlaw of racially restrictive covenants. *What correlations are there with our Green Book data locations?*"
   ]
  },
  {
   "cell_type": "code",
   "execution_count": null,
   "id": "bd14b7b0-8172-49c5-b1c2-7b05219d1f2e",
   "metadata": {},
   "outputs": [],
   "source": [
    "#Let's start with 1940.\n",
    "gdf_sorted = gdf.sort_values(by='Pct_black_40',ascending = False)"
   ]
  },
  {
   "cell_type": "code",
   "execution_count": null,
   "id": "2e9ddee2-834d-46ee-bf06-84e973cca9e3",
   "metadata": {
    "tags": []
   },
   "outputs": [],
   "source": [
    "gdf_sorted[['CTBNA','Pct_black_40']].head(10)"
   ]
  },
  {
   "cell_type": "code",
   "execution_count": null,
   "id": "49a30202-2fff-410e-bf4f-77151eb75c91",
   "metadata": {
    "tags": []
   },
   "outputs": [],
   "source": [
    "gdf_sorted.head(10).plot.bar(x='CTBNA',\n",
    "                            y='Pct_black_40',\n",
    "                            title='Top 10 Census Tracts with Highest % Black Population in Los Angeles County, 1940')"
   ]
  },
  {
   "cell_type": "code",
   "execution_count": null,
   "id": "a792e249-d987-4894-a8ca-8ca3f732f37f",
   "metadata": {},
   "outputs": [],
   "source": [
    "#1960\n",
    "gdf_sorted2 = gdf.sort_values(by='Pct_black_60',ascending = False)"
   ]
  },
  {
   "cell_type": "code",
   "execution_count": null,
   "id": "8f81fe29-de90-4ae2-a5a4-4f53bfb6f5d4",
   "metadata": {
    "tags": []
   },
   "outputs": [],
   "source": [
    "gdf_sorted2[['CTBNA','Pct_black_60']].head(10)"
   ]
  },
  {
   "cell_type": "code",
   "execution_count": null,
   "id": "2f8681c1-3f22-426d-a2b1-6246cae80953",
   "metadata": {
    "tags": []
   },
   "outputs": [],
   "source": [
    "gdf_sorted.head(10).plot.bar(x='CTBNA',\n",
    "                            y='Pct_black_60',\n",
    "                            title='Top 10 Census Tracts with Highest % Black Population in Los Angeles County, 1960')"
   ]
  },
  {
   "cell_type": "code",
   "execution_count": null,
   "id": "40131c14-d9cc-4a3c-ac21-f83be512d84c",
   "metadata": {},
   "outputs": [],
   "source": [
    "#change CTBNA label"
   ]
  },
  {
   "cell_type": "code",
   "execution_count": null,
   "id": "e08b53a0-7e9a-411f-bb0f-5a3f4ea7e9cc",
   "metadata": {},
   "outputs": [],
   "source": []
  },
  {
   "cell_type": "markdown",
   "id": "a8055461-2117-4a4b-8eaf-faf0d6abe4a7",
   "metadata": {
    "tags": []
   },
   "source": [
    "# 5. Create multi-layered subplots for GB1947 and 1940 census."
   ]
  },
  {
   "cell_type": "code",
   "execution_count": null,
   "id": "81baabe6-e203-433b-abe5-bf87d6a99a4e",
   "metadata": {},
   "outputs": [],
   "source": [
    "#Create an x coordinate column\n",
    "gb47['long'] = gb47['geometry'].apply(lambda p: p.x)\n",
    "\n",
    "#Create an y coordinate column\n",
    "gb47['lat'] = gb47['geometry'].apply(lambda p: p.y)"
   ]
  },
  {
   "cell_type": "code",
   "execution_count": null,
   "id": "d2a7d223-4f25-4db8-8777-00b6640b9ee8",
   "metadata": {},
   "outputs": [],
   "source": [
    "gb47.head()"
   ]
  },
  {
   "cell_type": "code",
   "execution_count": null,
   "id": "fe432b10-8d7a-469d-8941-88ccf1640a19",
   "metadata": {},
   "outputs": [],
   "source": [
    "#Create an x coordinate column\n",
    "la47['lon'] = la47['geometry'].apply(lambda p: p.x)\n",
    "\n",
    "#Create an y coordinate column\n",
    "la47['lat'] = la47['geometry'].apply(lambda p: p.y)\n",
    "la47.head()"
   ]
  },
  {
   "cell_type": "code",
   "execution_count": null,
   "id": "208c8bad-92c8-400c-8e37-9e051ecbf126",
   "metadata": {
    "tags": []
   },
   "outputs": [],
   "source": [
    "# convert lat/lon's to floats\n",
    "gb47['lat'] = gb47['lat'].astype(float)\n",
    "gb47['long'] = gb47['long'].astype(float)\n",
    "gb47.info()"
   ]
  },
  {
   "cell_type": "code",
   "execution_count": null,
   "id": "c880373e-5509-4ab7-bb1a-f07251bdbaca",
   "metadata": {},
   "outputs": [],
   "source": [
    "# identify the outlier\n",
    "gb47[gb47.lat == 0]"
   ]
  },
  {
   "cell_type": "code",
   "execution_count": null,
   "id": "acb14d19-00b1-4c52-9005-aeefcab71fa4",
   "metadata": {
    "tags": []
   },
   "outputs": [],
   "source": [
    "# convert lat/lon's to floats\n",
    "la56['LAT'] = la56['LAT'].astype(float)\n",
    "la56['LONG'] = la56['LONG'].astype(float)\n",
    "la56.info()"
   ]
  },
  {
   "cell_type": "code",
   "execution_count": null,
   "id": "ffc12302-4f9e-4492-bd7c-01e1d951d662",
   "metadata": {},
   "outputs": [],
   "source": [
    "# identify the outlier\n",
    "la56[la56.LAT == 0]"
   ]
  },
  {
   "cell_type": "code",
   "execution_count": null,
   "id": "a9bada06-a4ce-4f50-a979-98c5ffdc8a57",
   "metadata": {},
   "outputs": [],
   "source": [
    "#no outliers...let's map this baby.\n",
    "# in order to drop the outlier, we can \"keep\" the other rows using the \"not equal\" notation (!=)\n",
    "# gb47 = df_mini[df_mini.lon != 0]\n",
    "#df_mini to be equal to itself with a query --> i want to keep records wher elong is not = 0 "
   ]
  },
  {
   "cell_type": "code",
   "execution_count": null,
   "id": "11cae24f-8819-46a6-83f8-20d29a1525eb",
   "metadata": {
    "tags": []
   },
   "outputs": [],
   "source": [
    "# check the plot again\n",
    "fig = px.scatter(la47,\n",
    "           x='lon',\n",
    "           y='lat'\n",
    ")\n",
    "\n",
    "fig.show()"
   ]
  },
  {
   "cell_type": "code",
   "execution_count": null,
   "id": "2a4e6c00-8ba8-4733-be6d-511ebcc0291f",
   "metadata": {},
   "outputs": [],
   "source": [
    "# before you run this cell, what do you think it will produce?\n",
    "fig = px.scatter_mapbox(la47, \n",
    "                        lat=\"lat\", \n",
    "                        lon=\"lon\", \n",
    "                        color=\"category\",\n",
    "                        labels={'category':'Location Types'}\n",
    "                       )\n",
    "\n",
    "fig.update_layout(mapbox_style=\"carto-darkmatter\")\n",
    "\n",
    "fig.show()"
   ]
  },
  {
   "cell_type": "code",
   "execution_count": null,
   "id": "148b2378-60eb-445e-b416-76aed8d09ccc",
   "metadata": {},
   "outputs": [],
   "source": []
  },
  {
   "cell_type": "code",
   "execution_count": null,
   "id": "1ce8ce0a-8866-454e-9148-2213b337b06d",
   "metadata": {
    "tags": []
   },
   "outputs": [],
   "source": [
    "# check the plot again\n",
    "fig = px.scatter(la56,\n",
    "           x='LONG',\n",
    "           y='LAT'\n",
    ")\n",
    "\n",
    "fig.show()"
   ]
  },
  {
   "cell_type": "code",
   "execution_count": null,
   "id": "fa21c6d9-61b2-49a7-b728-6acf8a6881f3",
   "metadata": {},
   "outputs": [],
   "source": [
    "# before you run this cell, what do you think it will produce?\n",
    "fig = px.scatter_mapbox(la56, \n",
    "                        lat=\"LAT\", \n",
    "                        lon=\"LONG\", \n",
    "                        color=\"category\",\n",
    "                        labels={'category':'Location Types'}\n",
    "                       )\n",
    "\n",
    "fig.update_layout(mapbox_style=\"carto-darkmatter\")\n",
    "\n",
    "fig.show()"
   ]
  },
  {
   "cell_type": "code",
   "execution_count": null,
   "id": "315d72e9-e4fe-47be-ae7d-bf50475ce406",
   "metadata": {
    "tags": []
   },
   "outputs": [],
   "source": [
    "gdf.info(verbose=True, null_counts=True)"
   ]
  },
  {
   "cell_type": "code",
   "execution_count": null,
   "id": "a9709713-3a75-47b5-9500-d781e5dbb9c4",
   "metadata": {},
   "outputs": [],
   "source": [
    "# subset the data below (don't forget to add .copy at the end)\n",
    "gdf_mini = gdf[['AREA','PERIMETER','CTBNA','geometry','Pct_black_40','Pct_white_40','Pct_black_50','Pct_white_50','Pct_black_60','Pct_white_60',]].copy()\n",
    "#need to subset by putting inside brackets"
   ]
  },
  {
   "cell_type": "code",
   "execution_count": null,
   "id": "fc692d63-cbfa-4c51-96fc-493a83174e25",
   "metadata": {},
   "outputs": [],
   "source": []
  },
  {
   "cell_type": "code",
   "execution_count": null,
   "id": "273c7567-00b9-4f66-aae9-8797ef57e818",
   "metadata": {
    "tags": []
   },
   "outputs": [],
   "source": [
    "# set up the plot canvas with plt.subplots; single subplot\n",
    "fig, ax = plt.subplots(figsize=(20, 20))\n",
    "\n",
    "# block groups\n",
    "gdf.plot(ax=ax,\n",
    "        column='Pct_black_40',\n",
    "        legend=True,\n",
    "        alpha=0.8,\n",
    "        cmap='RdYlGn_r',\n",
    "        scheme='quantiles')\n",
    "\n",
    "# GB 1847\n",
    "la47_web_mercator.plot(ax=ax, # this also puts it in the same ax plot\n",
    "            color='red',\n",
    "            markersize=10,\n",
    "            alpha=0.2)\n",
    "\n",
    "# no axis\n",
    "ax.axis('off')\n",
    "\n",
    "# add a basemap\n",
    "ctx.add_basemap(ax,source=ctx.providers.CartoDB.Positron)"
   ]
  },
  {
   "cell_type": "code",
   "execution_count": null,
   "id": "d0c0ca84-8dc3-4ab2-967b-8f8e4de52c8b",
   "metadata": {
    "tags": []
   },
   "outputs": [],
   "source": [
    "#map it\n",
    "fig, ax = plt.subplots(figsize=(12,12))\n",
    "\n",
    "# 1940 map\n",
    "gdf.plot(column='Pct_white_40', \n",
    "            cmap='RdYlGn_r', \n",
    "            scheme='user_defined',\n",
    "            classification_kwds={'bins':[20,40,60,80,100]},\n",
    "            edgecolor='white', \n",
    "            linewidth=0., \n",
    "            alpha=0.75, \n",
    "            ax=ax1, # this assigns the map to the subplot,\n",
    "            legend=True\n",
    "           )\n",
    "\n",
    "la47_web_mercator.plot(ax=ax,\n",
    "         lw=0.5,\n",
    "         alpha=0.4,\n",
    "        column='category',\n",
    "        legend=True,\n",
    "         markersize=10)\n",
    "\n",
    "ax.set_title('Greenbook Locations in Los Angeles and % Black, 1947',fontsize=16, weight='bold')\n",
    "\n",
    "# no axis\n",
    "ax.axis('off')\n",
    "\n",
    "# add a basemap\n",
    "ctx.add_basemap(ax,source=ctx.providers.CartoDB.Positron)"
   ]
  },
  {
   "cell_type": "code",
   "execution_count": null,
   "id": "8b0928f0-5f6d-4dfd-a96c-7942d3c3ca0c",
   "metadata": {},
   "outputs": [],
   "source": [
    "# reproject to web mercator\n",
    "gdf_web_mercator = gdf.to_crs(epsg=3857)\n",
    "\n",
    "# map it\n",
    "fig, ax = plt.subplots(figsize=(20, 20))\n",
    "\n",
    "\n",
    "#race\n",
    "gdf.plot(ax=ax,\n",
    "                 column='Pct_black_40',\n",
    "                 legend=True, \n",
    "                 scheme='NaturalBreaks')\n",
    "\n",
    "\n",
    "#Greenbook locations\n",
    "ax = la47_web_mercator.plot(ax=ax,\n",
    "                              column='category',\n",
    "                              legend=True,\n",
    "                             markersize=10)\n",
    "\n",
    "#no axis\n",
    "ax.axis('off')\n",
    "\n",
    "#Add a Title\n",
    "ax.set_title('Greenbook Locations, 1947')\n",
    "\n",
    "#add a basemap\n",
    "ctx.add_basemap(ax, source=ctx.providers.CartoDB.Positron)"
   ]
  },
  {
   "cell_type": "code",
   "execution_count": null,
   "id": "3a8e4bc5-b2bb-4ec0-8edc-9d00559da58f",
   "metadata": {},
   "outputs": [],
   "source": [
    "ax = la47_web_mercator.plot(figsize=(20,20),\n",
    "                              column='category',\n",
    "                              legend=True,\n",
    "                             markersize=10)\n",
    "\n",
    "ax.axis('off')\n",
    "\n",
    "#Add a Title\n",
    "ax.set_title('Greenbook Locations in Los Angeles, 1947')\n",
    "\n",
    "ctx.add_basemap(ax,source=ctx.providers.CartoDB.Positron)"
   ]
  },
  {
   "cell_type": "markdown",
   "id": "81f9535a-7bba-4b7a-9e56-ab75f7a1a869",
   "metadata": {},
   "source": [
    "Let's try a Kepler map."
   ]
  },
  {
   "cell_type": "code",
   "execution_count": null,
   "id": "62b30991-7bfe-402a-b9c1-af539fa4b8f6",
   "metadata": {
    "jupyter": {
     "source_hidden": true
    },
    "tags": []
   },
   "outputs": [],
   "source": [
    "from keplergl import KeplerGl\n",
    "\n",
    "map = KeplerGl(height=600,width=800)\n",
    "map"
   ]
  },
  {
   "cell_type": "code",
   "execution_count": null,
   "id": "6d9176fd-3bc5-457d-b808-a27a1a82a1ed",
   "metadata": {
    "jupyter": {
     "source_hidden": true
    },
    "tags": []
   },
   "outputs": [],
   "source": [
    "map.add_data(data=la47,name='1947') #add_data = give it arguments\n",
    "#defined map above"
   ]
  },
  {
   "cell_type": "code",
   "execution_count": null,
   "id": "d2b73003-4af4-41f8-8627-904960705e00",
   "metadata": {
    "jupyter": {
     "source_hidden": true
    },
    "tags": []
   },
   "outputs": [],
   "source": [
    "map.add_data(data=gdf,name='census') #add_data = give it arguments\n",
    "#defined map above"
   ]
  },
  {
   "cell_type": "code",
   "execution_count": null,
   "id": "e6c4573b-f97a-4fbe-b590-388b9105abde",
   "metadata": {
    "jupyter": {
     "source_hidden": true
    },
    "tags": []
   },
   "outputs": [],
   "source": [
    "map.save_to_html(file_name='la_arrests.html',read_only=True)"
   ]
  },
  {
   "cell_type": "code",
   "execution_count": null,
   "id": "fcd381a7-13bf-46b0-9a88-308d50663eff",
   "metadata": {},
   "outputs": [],
   "source": []
  },
  {
   "cell_type": "code",
   "execution_count": null,
   "id": "c99bcee4-b708-4e3c-9cc2-c22a816a3869",
   "metadata": {},
   "outputs": [],
   "source": [
    "NEXT\n",
    "SUBPLOT CODE\n",
    "\n",
    "DEF\n",
    "def race_map(race='H'): #give a default value\n",
    "    \n",
    "    fig = px.scatter_mapbox(\n",
    "                            df_mini[df_mini.descent_cd==race], #subset of what we want to map from df_mini to only include when race = race (variable)\n",
    "                            lat=\"lat\", \n",
    "                            lon=\"lon\", \n",
    "                            color=\"descent_cd\",\n",
    "                            labels={'descent_cd':'Race'}\n",
    "                           )\n",
    "\n",
    "    fig.update_layout(mapbox_style=\"carto-darkmatter\")\n",
    "\n",
    "    fig.show()\n",
    "\n",
    "LOOP/Function"
   ]
  },
  {
   "cell_type": "code",
   "execution_count": null,
   "id": "a67dddc4-d877-4595-bdcd-24ea1fcc5927",
   "metadata": {},
   "outputs": [],
   "source": []
  },
  {
   "cell_type": "code",
   "execution_count": null,
   "id": "a5c39c63-b9e1-44aa-b028-68d84848c707",
   "metadata": {},
   "outputs": [],
   "source": []
  },
  {
   "cell_type": "code",
   "execution_count": null,
   "id": "513f0206-61ca-4a25-ac7b-e022d5a610f2",
   "metadata": {},
   "outputs": [],
   "source": []
  },
  {
   "cell_type": "code",
   "execution_count": null,
   "id": "01fdad7d-8eef-4c46-bc58-d4e334bee8c1",
   "metadata": {},
   "outputs": [],
   "source": []
  },
  {
   "cell_type": "markdown",
   "id": "7392ad82-7a0e-499f-9590-8eae6947f171",
   "metadata": {},
   "source": [
    "# 6. Create a function and loop through all racial categories."
   ]
  },
  {
   "cell_type": "code",
   "execution_count": null,
   "id": "b7c83f7b-fd37-4ece-a715-92471bc4cbfc",
   "metadata": {},
   "outputs": [],
   "source": [
    "#create a list\n",
    "races = [pct_black_40, pct_white_40, pct_black_50, pct_white_50, pct_black_60, pct_white_60]"
   ]
  },
  {
   "cell_type": "code",
   "execution_count": null,
   "id": "766444d5-2e39-4732-ad78-5f5344e6e369",
   "metadata": {},
   "outputs": [],
   "source": [
    "# loop through routes = for loop; all indented below is part of for loop\n",
    "for race in races:\n",
    "\n",
    "    # api url for metro stops = most important place to put variable\n",
    "    metro_url = 'https://api.metro.net/agencies/lametro/routes/' + str(route) + '/stops/'\n",
    "\n",
    "    # call the api and bring the data in\n",
    "    with urllib.request.urlopen(metro_url) as url:\n",
    "        data = json.loads(url.read().decode())\n",
    "\n",
    "    # convert the data to a dataframe\n",
    "    df = pd.json_normalize(data, 'items')\n",
    "    df\n",
    "    \n",
    "    # convert df to gdf\n",
    "    gdf = gpd.GeoDataFrame(df, \n",
    "                           crs='epsg:4326',\n",
    "                           geometry=gpd.points_from_xy(df.longitude, df.latitude))\n",
    "    \n",
    "    # reproject to web mercator\n",
    "    gdf_web_mercator = gdf.to_crs(epsg=3857)\n",
    "\n",
    "    # map it\n",
    "    fig, ax = plt.subplots(figsize=(15,15))\n",
    "\n",
    "    gdf_web_mercator.plot(ax=ax, \n",
    "                          marker='X',\n",
    "                          markersize=50,\n",
    "                          color='red')\n",
    "\n",
    "    ax.axis('off')\n",
    "\n",
    "    ax.set_title('Metro Bus Route '+str(route))\n",
    "\n",
    "    ctx.add_basemap(ax, source=ctx.providers.Stamen.Toner, zoom=13)"
   ]
  },
  {
   "cell_type": "markdown",
   "id": "441cec79-211c-4d39-b238-5a4393178ea1",
   "metadata": {},
   "source": [
    "# 7. Repeat for GB1956 and 1960 census."
   ]
  },
  {
   "cell_type": "code",
   "execution_count": null,
   "id": "2d1764b8-b37f-411e-b8be-ee4be952d7c1",
   "metadata": {},
   "outputs": [],
   "source": []
  },
  {
   "cell_type": "code",
   "execution_count": null,
   "id": "aa904c80-07c0-4e1e-9a4f-c9f61ca67ab1",
   "metadata": {},
   "outputs": [],
   "source": []
  },
  {
   "cell_type": "code",
   "execution_count": null,
   "id": "2479535b-6857-402d-a8cc-ee62cb4999e0",
   "metadata": {},
   "outputs": [],
   "source": []
  },
  {
   "cell_type": "markdown",
   "id": "0bfc0baa-472e-4906-9ca2-92d28f13a89e",
   "metadata": {},
   "source": [
    "Let's explore the data!"
   ]
  },
  {
   "cell_type": "markdown",
   "id": "68318f87-7c66-4831-b854-e8940e77fb24",
   "metadata": {},
   "source": [
    "How many different categories are there in 1956?"
   ]
  },
  {
   "cell_type": "code",
   "execution_count": null,
   "id": "921d4f05-050b-4e0a-8370-8fb19f085091",
   "metadata": {},
   "outputs": [],
   "source": [
    "gb56['category'].plot.hist(bins=50)"
   ]
  },
  {
   "cell_type": "code",
   "execution_count": null,
   "id": "1ba4fd1b-6a69-4fc7-9040-439be096fb93",
   "metadata": {},
   "outputs": [],
   "source": []
  }
 ],
 "metadata": {
  "kernelspec": {
   "display_name": "Python 3 (ipykernel)",
   "language": "python",
   "name": "python3"
  },
  "language_info": {
   "codemirror_mode": {
    "name": "ipython",
    "version": 3
   },
   "file_extension": ".py",
   "mimetype": "text/x-python",
   "name": "python",
   "nbconvert_exporter": "python",
   "pygments_lexer": "ipython3",
   "version": "3.9.6"
  }
 },
 "nbformat": 4,
 "nbformat_minor": 5
}
