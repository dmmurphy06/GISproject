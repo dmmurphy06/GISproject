{
 "cells": [
  {
   "cell_type": "markdown",
   "id": "57194d5a-0242-49e5-a38f-fe5395e97eba",
   "metadata": {},
   "source": [
    "**Research Questions:** \n",
    "* *What was the Black urban ecology of safety in post-WWII Los Angeles?* Through analyzing Green Book location data from 1947 and 1956, before and after the outlaw of racially restrictive covenants, in Los Angeles, I seek to reveal a local landscape of safety and interrogate how shifts in discriminatory policies governing private and public space may have impacted this temporal network. \n",
    "\n",
    "* *What was the impact of shifts in neighborhood socioeconomic demographics on this ecology of safety?* I'd like to compare this with race and economic indicators such as blue or white collar work, leve of education, home values and rents by Census tract adjacent to these years to better understand both shifts and the spatial composition in these landscapes of safety amidst complex urban neighborhood changes.\n",
    "\n",
    "**Data Sources:**\n",
    "* [Green Book locations by type for SoCal, 1947](https://github.com/NYPL-publicdomain/greenbook-map/tree/master/data) (Schomburg Center for Research in Black Culture at the New York Public Library)\n",
    "* [Green Book locations by type for SoCal, 1956](https://github.com/NYPL-publicdomain/greenbook-map/tree/master/data) (Schomburg Center for Research in Black Culture at the New York Public Library)\n",
    "* [Los Angeles County Union Census Tract Data Series, 1940-1990](https://drive.google.com/drive/folders/1KiflC3DOQJoo_DTiZGzbr3-_QhvTh1nl?usp=sharing) from Ethington, Kooistra, and DeYoung (add official citation here) (*Note:I will consult 1950 as an informative datapoint, but this project is focused on the change explicitly before and after racially restrictive covenants were struck down in the 1948 Shelley v. Kramer decision.*)\n",
    "    * From this dataset, I am interested in the following variables and years that will help me better understand the **racial demographics** of the area in both 1940 and 1960 (where yy = year):\n",
    "        * **PyyB:** Population Black non-White\n",
    "            * **PyyT** used to calculate percentage of Black non-white population.\n",
    "    * Median household income data is not available until 1970 in this dataset, so I will explore  a few of the following variables to better understand the surrounding **socioeconomic context** in both 1940 and 1960 (where yy = year)::\n",
    "        * **EyyH:**\tEducation completed high school \n",
    "        * **EyyC:**\tEducation completed college \n",
    "        * **OyyWC:**\tOccupation White Collar\n",
    "        * **OyyBC:**\tOccupation Blue Collar\n",
    "        * **HyyMVL:**\tMedian value of dwelling/housing units\n",
    "        * **HyyMRN:**\tHousing Median Rent of Unit"
   ]
  },
  {
   "cell_type": "code",
   "execution_count": null,
   "id": "bfb834b6-91c6-4485-852f-58a6817072e8",
   "metadata": {},
   "outputs": [],
   "source": []
  }
 ],
 "metadata": {
  "kernelspec": {
   "display_name": "Python 3 (ipykernel)",
   "language": "python",
   "name": "python3"
  },
  "language_info": {
   "codemirror_mode": {
    "name": "ipython",
    "version": 3
   },
   "file_extension": ".py",
   "mimetype": "text/x-python",
   "name": "python",
   "nbconvert_exporter": "python",
   "pygments_lexer": "ipython3",
   "version": "3.9.6"
  }
 },
 "nbformat": 4,
 "nbformat_minor": 5
}
